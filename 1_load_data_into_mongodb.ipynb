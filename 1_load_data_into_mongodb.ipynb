{
 "cells": [
  {
   "cell_type": "code",
   "execution_count": 14,
   "metadata": {},
   "outputs": [
    {
     "name": "stdout",
     "output_type": "stream",
     "text": [
      "Requirement already satisfied: tensorflow-io in c:\\flowerclassification\\.venv\\flower\\lib\\site-packages (0.31.0)\n",
      "Requirement already satisfied: tensorflow-io-gcs-filesystem==0.31.0 in c:\\flowerclassification\\.venv\\flower\\lib\\site-packages (from tensorflow-io) (0.31.0)\n"
     ]
    }
   ],
   "source": [
    "!pip install tensorflow-io\n"
   ]
  },
  {
   "cell_type": "code",
   "execution_count": 15,
   "metadata": {},
   "outputs": [
    {
     "data": {
      "text/plain": [
       "True"
      ]
     },
     "execution_count": 15,
     "metadata": {},
     "output_type": "execute_result"
    }
   ],
   "source": [
    "import os\n",
    "from dotenv import load_dotenv\n",
    "from pymongo import MongoClient\n",
    "import polars as pl\n",
    "import tensorflow_io as tfio\n",
    "from PIL import Image\n",
    "import numpy as np\n",
    "import io\n",
    "\n",
    "load_dotenv()"
   ]
  },
  {
   "cell_type": "code",
   "execution_count": 16,
   "metadata": {},
   "outputs": [],
   "source": [
    "def load_and_convert_image(filepath: str):\n",
    "    full_path = os.path.join(os.environ[\"PATH_ARCHIVE\"], filepath.replace(\"/\", os.sep))\n",
    "    im = Image.open(full_path)\n",
    "    return np.array(im).tobytes()\n",
    "\n",
    "\n",
    "def load_and_convert_image_2(filepath: str):\n",
    "    full_path = os.path.join(os.environ[\"PATH_ARCHIVE\"], filepath.replace(\"/\", os.sep))\n",
    "    im = Image.open(full_path)\n",
    "    image_bytes = io.BytesIO()\n",
    "    im.save(image_bytes, format=\"JPEG\")\n",
    "    return image_bytes.getvalue()\n",
    "\n",
    "\n",
    "def clean_df(df: pl.DataFrame):\n",
    "    df = df.with_columns(pl.col(\"image:FILE\").str.split(by=\"/\").alias(\"split\"))\n",
    "    df = df.select(\n",
    "        pl.col(\"split\").list.get(2).str.strip_suffix(\"_c.jpg\").alias(\"id\"),\n",
    "        pl.col(\"split\").list.get(1).alias(\"flower_type\"),\n",
    "        pl.col(\"category\"),\n",
    "        pl.col(\"image:FILE\")\n",
    "        .map_elements(load_and_convert_image_2, return_dtype=pl.Binary)\n",
    "        .alias(\"data\"),\n",
    "        pl.col(\"image:FILE\").alias(\"filepath\"),\n",
    "    )\n",
    "    filepath = df.row(0, named=True)[\"filepath\"]\n",
    "    print(len(load_and_convert_image(filepath)))\n",
    "    print(len(load_and_convert_image_2(filepath)))\n",
    "    print(len(df.row(0, named=True)[\"data\"]))\n",
    "    return df\n",
    "\n",
    "\n",
    "def upload_to_collection(collection, csv_filename, reset=True):\n",
    "    df = pl.read_csv(os.path.join(os.environ[\"PATH_ARCHIVE\"], csv_filename))\n",
    "\n",
    "    if reset:\n",
    "        result = collection.delete_many({})\n",
    "        print(result.deleted_count)\n",
    "\n",
    "    # remove the paths from the df\n",
    "    df = clean_df(df)\n",
    "\n",
    "    # insert into mongodb\n",
    "    result = collection.insert_many(df.to_dicts())\n",
    "    document_ids = result.inserted_ids\n",
    "    print(\"# of documents inserted: \" + str(len(document_ids)))\n",
    "    print(f\"_ids of inserted documents: {document_ids}\")"
   ]
  },
  {
   "cell_type": "code",
   "execution_count": 17,
   "metadata": {},
   "outputs": [],
   "source": [
    "# setup database\n",
    "client = MongoClient(os.environ[\"URI\"])\n",
    "\n",
    "# Get reference to 'bank' database\n",
    "db = client.flowers\n",
    "\n",
    "# Get a reference to 'magazines' collection\n",
    "train_collection = db.train"
   ]
  },
  {
   "cell_type": "code",
   "execution_count": 20,
   "metadata": {},
   "outputs": [
    {
     "name": "stdout",
     "output_type": "stream",
     "text": [
      "196608\n",
      "12108\n",
      "12108\n"
     ]
    }
   ],
   "source": [
    "upload_to_collection(train_collection, \"train.csv\")"
   ]
  },
  {
   "cell_type": "code",
   "execution_count": 23,
   "metadata": {},
   "outputs": [],
   "source": [
    "client.close()"
   ]
  },
  {
   "cell_type": "code",
   "execution_count": null,
   "metadata": {},
   "outputs": [],
   "source": []
  }
 ],
 "metadata": {
  "kernelspec": {
   "display_name": "flower",
   "language": "python",
   "name": "python3"
  },
  "language_info": {
   "codemirror_mode": {
    "name": "ipython",
    "version": 3
   },
   "file_extension": ".py",
   "mimetype": "text/x-python",
   "name": "python",
   "nbconvert_exporter": "python",
   "pygments_lexer": "ipython3",
   "version": "3.11.2"
  }
 },
 "nbformat": 4,
 "nbformat_minor": 2
}
