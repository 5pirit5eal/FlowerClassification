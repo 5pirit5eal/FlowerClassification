{
 "cells": [
  {
   "cell_type": "code",
   "execution_count": 1,
   "metadata": {},
   "outputs": [
    {
     "data": {
      "text/plain": [
       "True"
      ]
     },
     "execution_count": 1,
     "metadata": {},
     "output_type": "execute_result"
    }
   ],
   "source": [
    "import os\n",
    "from dotenv import load_dotenv\n",
    "from pymongo import MongoClient\n",
    "import polars as pl\n",
    "from PIL import Image\n",
    "import numpy as np\n",
    "import io\n",
    "\n",
    "load_dotenv()"
   ]
  },
  {
   "cell_type": "code",
   "execution_count": 3,
   "metadata": {},
   "outputs": [],
   "source": [
    "def load_and_convert_image(filepath: str):\n",
    "    full_path = os.path.join(os.environ[\"PATH_ARCHIVE\"], filepath.replace(\"/\", os.sep))\n",
    "    im = Image.open(full_path)\n",
    "    return np.array(im).tobytes()\n",
    "\n",
    "\n",
    "def load_and_convert_image_2(filepath: str):\n",
    "    full_path = os.path.join(os.environ[\"PATH_ARCHIVE\"], filepath.replace(\"/\", os.sep))\n",
    "    im = Image.open(full_path)\n",
    "    image_bytes = io.BytesIO()\n",
    "    im.save(image_bytes, format=\"JPEG\")\n",
    "    return image_bytes.getvalue()\n",
    "\n",
    "\n",
    "def transform_df(df: pl.DataFrame):\n",
    "    df = df.with_columns(pl.col(\"image:FILE\").str.split(by=\"/\").alias(\"split\"))\n",
    "    df = df.select(\n",
    "        pl.col(\"split\").list.get(2).str.strip_suffix(\"_c.jpg\").alias(\"id\"),\n",
    "        pl.col(\"split\").list.get(1).alias(\"flower_type\"),\n",
    "        pl.col(\"category\"),\n",
    "        pl.col(\"image:FILE\")\n",
    "        .map_elements(load_and_convert_image_2, return_dtype=pl.Binary)\n",
    "        .alias(\"data\"),\n",
    "        pl.col(\"image:FILE\").alias(\"filepath\"),\n",
    "    )\n",
    "    filepath = df.row(0, named=True)[\"filepath\"]\n",
    "    print(len(load_and_convert_image(filepath)))\n",
    "    print(len(load_and_convert_image_2(filepath)))\n",
    "    print(len(df.row(0, named=True)[\"data\"]))\n",
    "    return df\n",
    "\n",
    "\n",
    "def upload_to_collection(collection, csv_filename, reset=True):\n",
    "    df = pl.read_csv(os.path.join(os.environ[\"PATH_ARCHIVE\"], csv_filename))\n",
    "\n",
    "    if reset:\n",
    "        result = collection.delete_many({})\n",
    "        print(result.deleted_count)\n",
    "\n",
    "    # transform the dataset df\n",
    "    df = transform_df(df)\n",
    "\n",
    "    # insert into mongodb\n",
    "    result = collection.insert_many(df.to_dicts())\n",
    "    document_ids = result.inserted_ids\n",
    "    print(\"# of documents inserted: \" + str(len(document_ids)))\n",
    "    print(f\"_ids of inserted documents: {document_ids}\")"
   ]
  },
  {
   "cell_type": "code",
   "execution_count": 2,
   "metadata": {},
   "outputs": [],
   "source": [
    "# setup database\n",
    "client = MongoClient(os.environ[\"URI\"])\n",
    "\n",
    "# Get reference to 'bank' database\n",
    "db = client.flowers\n",
    "\n",
    "# Get a reference to train and test collection\n",
    "collections = {\"train.csv\": db.train, \"val.csv\": db.test}"
   ]
  },
  {
   "cell_type": "code",
   "execution_count": 3,
   "metadata": {},
   "outputs": [
    {
     "ename": "NameError",
     "evalue": "name 'upload_to_collection' is not defined",
     "output_type": "error",
     "traceback": [
      "\u001b[1;31m---------------------------------------------------------------------------\u001b[0m",
      "\u001b[1;31mNameError\u001b[0m                                 Traceback (most recent call last)",
      "\u001b[1;32mc:\\FlowerClassification\\1_load_data_into_mongodb.ipynb Cell 5\u001b[0m line \u001b[0;36m2\n\u001b[0;32m      <a href='vscode-notebook-cell:/c%3A/FlowerClassification/1_load_data_into_mongodb.ipynb#W6sZmlsZQ%3D%3D?line=0'>1</a>\u001b[0m \u001b[39mfor\u001b[39;00m csv_filename, collection \u001b[39min\u001b[39;00m collections\u001b[39m.\u001b[39mitems():\n\u001b[1;32m----> <a href='vscode-notebook-cell:/c%3A/FlowerClassification/1_load_data_into_mongodb.ipynb#W6sZmlsZQ%3D%3D?line=1'>2</a>\u001b[0m     upload_to_collection(collection, csv_filename)\n",
      "\u001b[1;31mNameError\u001b[0m: name 'upload_to_collection' is not defined"
     ]
    }
   ],
   "source": [
    "for csv_filename, collection in collections.items():\n",
    "    upload_to_collection(collection, csv_filename)"
   ]
  },
  {
   "cell_type": "code",
   "execution_count": 4,
   "metadata": {},
   "outputs": [],
   "source": [
    "# Create indices for the image class\n",
    "import pymongo\n",
    "\n",
    "\n",
    "index1 = pymongo.IndexModel([(\"category\", pymongo.ASCENDING)])\n",
    "index2 = pymongo.IndexModel([(\"flower_type\", pymongo.TEXT)])\n",
    "\n",
    "for collection in collections.values():\n",
    "    collection.create_indexes([index1, index2])"
   ]
  },
  {
   "cell_type": "code",
   "execution_count": 7,
   "metadata": {},
   "outputs": [
    {
     "name": "stdout",
     "output_type": "stream",
     "text": [
      "SON([('v', 2), ('key', SON([('_id', 1)])), ('name', '_id_')])\n",
      "SON([('v', 2), ('key', SON([('category', 1)])), ('name', 'category_1')])\n",
      "SON([('v', 2), ('key', SON([('_fts', 'text'), ('_ftsx', 1)])), ('name', 'flower_type_text'), ('weights', SON([('flower_type', 1)])), ('default_language', 'english'), ('language_override', 'language'), ('textIndexVersion', 3)])\n"
     ]
    }
   ],
   "source": [
    "for index in collection.list_indexes():\n",
    "    print(index)"
   ]
  },
  {
   "cell_type": "code",
   "execution_count": 6,
   "metadata": {},
   "outputs": [],
   "source": [
    "client.close()"
   ]
  }
 ],
 "metadata": {
  "kernelspec": {
   "display_name": "flower",
   "language": "python",
   "name": "python3"
  },
  "language_info": {
   "codemirror_mode": {
    "name": "ipython",
    "version": 3
   },
   "file_extension": ".py",
   "mimetype": "text/x-python",
   "name": "python",
   "nbconvert_exporter": "python",
   "pygments_lexer": "ipython3",
   "version": "3.11.2"
  }
 },
 "nbformat": 4,
 "nbformat_minor": 2
}
