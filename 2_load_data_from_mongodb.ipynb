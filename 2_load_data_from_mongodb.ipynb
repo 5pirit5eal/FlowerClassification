{
 "cells": [
  {
   "cell_type": "code",
   "execution_count": 1,
   "metadata": {},
   "outputs": [],
   "source": [
    "# !pip install tensorflow==2.12\n",
    "# !pip install tensorflow_io==0.23.1\n"
   ]
  },
  {
   "cell_type": "code",
   "execution_count": 2,
   "metadata": {},
   "outputs": [
    {
     "data": {
      "text/plain": [
       "True"
      ]
     },
     "execution_count": 2,
     "metadata": {},
     "output_type": "execute_result"
    }
   ],
   "source": [
    "import os\n",
    "from dotenv import load_dotenv\n",
    "from pymongo import MongoClient\n",
    "import polars as pl\n",
    "import tensorflow_io as tfio\n",
    "from PIL import Image\n",
    "import numpy as np\n",
    "from MongoDBIODatasets import MongoDBIODataset\n",
    "\n",
    "load_dotenv()"
   ]
  },
  {
   "cell_type": "code",
   "execution_count": 3,
   "metadata": {},
   "outputs": [
    {
     "data": {
      "text/plain": [
       "['flowers', 'admin', 'local']"
      ]
     },
     "execution_count": 3,
     "metadata": {},
     "output_type": "execute_result"
    }
   ],
   "source": [
    "client = MongoClient(os.environ[\"URI\"])\n",
    "client.list_database_names()"
   ]
  },
  {
   "cell_type": "code",
   "execution_count": 4,
   "metadata": {},
   "outputs": [
    {
     "ename": "NotImplementedError",
     "evalue": "unable to open file: libtensorflow_io.so, from paths: ['c:\\\\FlowerClassification\\\\.venv\\\\flower\\\\Lib\\\\site-packages\\\\tensorflow_io\\\\python\\\\ops\\\\libtensorflow_io.so']\ncaused by: ['c:\\\\FlowerClassification\\\\.venv\\\\flower\\\\Lib\\\\site-packages\\\\tensorflow_io\\\\python\\\\ops\\\\libtensorflow_io.so not found']",
     "output_type": "error",
     "traceback": [
      "\u001b[1;31m---------------------------------------------------------------------------\u001b[0m",
      "\u001b[1;31mNotImplementedError\u001b[0m                       Traceback (most recent call last)",
      "\u001b[1;32mc:\\FlowerClassification\\2_load_data_from_mongodb.ipynb Cell 4\u001b[0m line \u001b[0;36m1\n\u001b[1;32m----> <a href='vscode-notebook-cell:/c%3A/FlowerClassification/2_load_data_from_mongodb.ipynb#W0sZmlsZQ%3D%3D?line=0'>1</a>\u001b[0m train_ds \u001b[39m=\u001b[39m MongoDBIODataset(\n\u001b[0;32m      <a href='vscode-notebook-cell:/c%3A/FlowerClassification/2_load_data_from_mongodb.ipynb#W0sZmlsZQ%3D%3D?line=1'>2</a>\u001b[0m     uri\u001b[39m=\u001b[39;49mos\u001b[39m.\u001b[39;49menviron[\u001b[39m\"\u001b[39;49m\u001b[39mURI\u001b[39;49m\u001b[39m\"\u001b[39;49m], database\u001b[39m=\u001b[39;49m\u001b[39m\"\u001b[39;49m\u001b[39mflowers\u001b[39;49m\u001b[39m\"\u001b[39;49m, collection\u001b[39m=\u001b[39;49m\u001b[39m\"\u001b[39;49m\u001b[39mtrain\u001b[39;49m\u001b[39m\"\u001b[39;49m\n\u001b[0;32m      <a href='vscode-notebook-cell:/c%3A/FlowerClassification/2_load_data_from_mongodb.ipynb#W0sZmlsZQ%3D%3D?line=2'>3</a>\u001b[0m )\n",
      "File \u001b[1;32mc:\\FlowerClassification\\MongoDBIODatasets.py:112\u001b[0m, in \u001b[0;36mMongoDBIODataset.__init__\u001b[1;34m(self, uri, database, collection)\u001b[0m\n\u001b[0;32m     86\u001b[0m \u001b[39m\u001b[39m\u001b[39m\"\"\"Initialize the dataset with the following parameters\u001b[39;00m\n\u001b[0;32m     87\u001b[0m \n\u001b[0;32m     88\u001b[0m \u001b[39mArgs:\u001b[39;00m\n\u001b[1;32m   (...)\u001b[0m\n\u001b[0;32m    109\u001b[0m \u001b[39m        have to be retrieved.\u001b[39;00m\n\u001b[0;32m    110\u001b[0m \u001b[39m\"\"\"\u001b[39;00m\n\u001b[0;32m    111\u001b[0m handler \u001b[39m=\u001b[39m _MongoDBHandler(uri\u001b[39m=\u001b[39muri, database\u001b[39m=\u001b[39mdatabase, collection\u001b[39m=\u001b[39mcollection)\n\u001b[1;32m--> 112\u001b[0m resource \u001b[39m=\u001b[39m handler\u001b[39m.\u001b[39;49mget_healthy_resource()\n\u001b[0;32m    113\u001b[0m dataset \u001b[39m=\u001b[39m tf\u001b[39m.\u001b[39mdata\u001b[39m.\u001b[39mexperimental\u001b[39m.\u001b[39mCounter()\n\u001b[0;32m    114\u001b[0m dataset \u001b[39m=\u001b[39m dataset\u001b[39m.\u001b[39mmap(\u001b[39mlambda\u001b[39;00m i: handler\u001b[39m.\u001b[39mget_next_batch(resource\u001b[39m=\u001b[39mresource))\n",
      "File \u001b[1;32mc:\\FlowerClassification\\MongoDBIODatasets.py:36\u001b[0m, in \u001b[0;36m_MongoDBHandler.get_healthy_resource\u001b[1;34m(self)\u001b[0m\n\u001b[0;32m     33\u001b[0m \u001b[39mdef\u001b[39;00m \u001b[39mget_healthy_resource\u001b[39m(\u001b[39mself\u001b[39m):\n\u001b[0;32m     34\u001b[0m \u001b[39m    \u001b[39m\u001b[39m\"\"\"Retrieve the resource which is connected to a healthy node\"\"\"\u001b[39;00m\n\u001b[1;32m---> 36\u001b[0m     resource \u001b[39m=\u001b[39m core_ops\u001b[39m.\u001b[39;49mio_mongo_db_readable_init(\n\u001b[0;32m     37\u001b[0m         uri\u001b[39m=\u001b[39m\u001b[39mself\u001b[39m\u001b[39m.\u001b[39muri,\n\u001b[0;32m     38\u001b[0m         database\u001b[39m=\u001b[39m\u001b[39mself\u001b[39m\u001b[39m.\u001b[39mdatabase,\n\u001b[0;32m     39\u001b[0m         collection\u001b[39m=\u001b[39m\u001b[39mself\u001b[39m\u001b[39m.\u001b[39mcollection,\n\u001b[0;32m     40\u001b[0m     )\n\u001b[0;32m     41\u001b[0m     \u001b[39mprint\u001b[39m(\u001b[39mf\u001b[39m\u001b[39m\"\u001b[39m\u001b[39mConnection successful: \u001b[39m\u001b[39m{\u001b[39;00m\u001b[39mself\u001b[39m\u001b[39m.\u001b[39muri\u001b[39m}\u001b[39;00m\u001b[39m\"\u001b[39m)\n\u001b[0;32m     42\u001b[0m     \u001b[39mreturn\u001b[39;00m resource\n",
      "File \u001b[1;32mc:\\FlowerClassification\\.venv\\flower\\Lib\\site-packages\\tensorflow_io\\python\\ops\\__init__.py:88\u001b[0m, in \u001b[0;36mLazyLoader.__getattr__\u001b[1;34m(self, attrb)\u001b[0m\n\u001b[0;32m     87\u001b[0m \u001b[39mdef\u001b[39;00m \u001b[39m__getattr__\u001b[39m(\u001b[39mself\u001b[39m, attrb):\n\u001b[1;32m---> 88\u001b[0m     \u001b[39mreturn\u001b[39;00m \u001b[39mgetattr\u001b[39m(\u001b[39mself\u001b[39;49m\u001b[39m.\u001b[39;49m_load(), attrb)\n",
      "File \u001b[1;32mc:\\FlowerClassification\\.venv\\flower\\Lib\\site-packages\\tensorflow_io\\python\\ops\\__init__.py:84\u001b[0m, in \u001b[0;36mLazyLoader._load\u001b[1;34m(self)\u001b[0m\n\u001b[0;32m     82\u001b[0m \u001b[39mdef\u001b[39;00m \u001b[39m_load\u001b[39m(\u001b[39mself\u001b[39m):\n\u001b[0;32m     83\u001b[0m     \u001b[39mif\u001b[39;00m \u001b[39mself\u001b[39m\u001b[39m.\u001b[39m_mod \u001b[39mis\u001b[39;00m \u001b[39mNone\u001b[39;00m:\n\u001b[1;32m---> 84\u001b[0m         \u001b[39mself\u001b[39m\u001b[39m.\u001b[39m_mod \u001b[39m=\u001b[39m _load_library(\u001b[39mself\u001b[39;49m\u001b[39m.\u001b[39;49m_library)\n\u001b[0;32m     85\u001b[0m     \u001b[39mreturn\u001b[39;00m \u001b[39mself\u001b[39m\u001b[39m.\u001b[39m_mod\n",
      "File \u001b[1;32mc:\\FlowerClassification\\.venv\\flower\\Lib\\site-packages\\tensorflow_io\\python\\ops\\__init__.py:69\u001b[0m, in \u001b[0;36m_load_library\u001b[1;34m(filename, lib)\u001b[0m\n\u001b[0;32m     67\u001b[0m     \u001b[39mexcept\u001b[39;00m (tf\u001b[39m.\u001b[39merrors\u001b[39m.\u001b[39mNotFoundError, \u001b[39mOSError\u001b[39;00m) \u001b[39mas\u001b[39;00m e:\n\u001b[0;32m     68\u001b[0m         errs\u001b[39m.\u001b[39mappend(\u001b[39mstr\u001b[39m(e))\n\u001b[1;32m---> 69\u001b[0m \u001b[39mraise\u001b[39;00m \u001b[39mNotImplementedError\u001b[39;00m(\n\u001b[0;32m     70\u001b[0m     \u001b[39m\"\u001b[39m\u001b[39munable to open file: \u001b[39m\u001b[39m\"\u001b[39m\n\u001b[0;32m     71\u001b[0m     \u001b[39m+\u001b[39m \u001b[39mf\u001b[39m\u001b[39m\"\u001b[39m\u001b[39m{\u001b[39;00mfilename\u001b[39m}\u001b[39;00m\u001b[39m, from paths: \u001b[39m\u001b[39m{\u001b[39;00mfilenames\u001b[39m}\u001b[39;00m\u001b[39m\\n\u001b[39;00m\u001b[39mcaused by: \u001b[39m\u001b[39m{\u001b[39;00merrs\u001b[39m}\u001b[39;00m\u001b[39m\"\u001b[39m\n\u001b[0;32m     72\u001b[0m )\n",
      "\u001b[1;31mNotImplementedError\u001b[0m: unable to open file: libtensorflow_io.so, from paths: ['c:\\\\FlowerClassification\\\\.venv\\\\flower\\\\Lib\\\\site-packages\\\\tensorflow_io\\\\python\\\\ops\\\\libtensorflow_io.so']\ncaused by: ['c:\\\\FlowerClassification\\\\.venv\\\\flower\\\\Lib\\\\site-packages\\\\tensorflow_io\\\\python\\\\ops\\\\libtensorflow_io.so not found']"
     ]
    }
   ],
   "source": [
    "train_ds = MongoDBIODataset(\n",
    "    uri=os.environ[\"URI\"], database=\"flowers\", collection=\"train\"\n",
    ")"
   ]
  },
  {
   "cell_type": "code",
   "execution_count": null,
   "metadata": {},
   "outputs": [],
   "source": []
  }
 ],
 "metadata": {
  "kernelspec": {
   "display_name": "flower",
   "language": "python",
   "name": "python3"
  },
  "language_info": {
   "codemirror_mode": {
    "name": "ipython",
    "version": 3
   },
   "file_extension": ".py",
   "mimetype": "text/x-python",
   "name": "python",
   "nbconvert_exporter": "python",
   "pygments_lexer": "ipython3",
   "version": "3.11.2"
  }
 },
 "nbformat": 4,
 "nbformat_minor": 2
}
