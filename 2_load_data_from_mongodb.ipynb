{
 "cells": [
  {
   "cell_type": "code",
   "execution_count": 1,
   "metadata": {},
   "outputs": [],
   "source": [
    "# !pip install tensorflow==2.12\n",
    "# !pip install tensorflow_io==0.23.1"
   ]
  },
  {
   "cell_type": "code",
   "execution_count": 2,
   "metadata": {},
   "outputs": [
    {
     "data": {
      "text/plain": [
       "True"
      ]
     },
     "execution_count": 2,
     "metadata": {},
     "output_type": "execute_result"
    }
   ],
   "source": [
    "import os\n",
    "from dotenv import load_dotenv\n",
    "from pymongo import MongoClient\n",
    "import tensorflow as tf\n",
    "from PIL import Image\n",
    "import numpy as np\n",
    "from MongoDBDataset import create_dataset\n",
    "import datetime\n",
    "\n",
    "load_dotenv()"
   ]
  },
  {
   "cell_type": "code",
   "execution_count": 3,
   "metadata": {},
   "outputs": [],
   "source": [
    "client = MongoClient(os.environ[\"URI\"])\n",
    "db = client.flowers\n",
    "N_CLASSES = len(db.test.distinct(\"category\"))"
   ]
  },
  {
   "cell_type": "code",
   "execution_count": 4,
   "metadata": {},
   "outputs": [],
   "source": [
    "train_dataset = create_dataset(db.train, batch_size=3, mode=\"train\")\n",
    "eval_dataset = create_dataset(db.test, batch_size=1, mode=\"test\")"
   ]
  },
  {
   "cell_type": "code",
   "execution_count": 5,
   "metadata": {},
   "outputs": [],
   "source": [
    "import keras.layers as layers\n",
    "\n",
    "\n",
    "def create_model():\n",
    "    input = layers.Input(name=\"flower_image\", shape=(256, 256, 3), dtype=tf.float32)\n",
    "    model_design = [\n",
    "        layers.Rescaling(1 / 127.5, -1),\n",
    "        # layers.Lambda(tf.image.resize_with_crop_or_pad, arguments=(256, 256)),\n",
    "        layers.Conv2D(\n",
    "            filters=64,\n",
    "            kernel_size=(5, 5),\n",
    "            strides=(2, 2),\n",
    "            activation=\"relu\",\n",
    "            name=\"layers_conv2d_1\",\n",
    "        ),\n",
    "        layers.MaxPooling2D(),  # 256 -> 128\n",
    "        layers.Conv2D(\n",
    "            filters=64,\n",
    "            kernel_size=(3, 3),\n",
    "            strides=(1, 1),\n",
    "            activation=\"relu\",\n",
    "            name=\"layers_conv2d_2\",\n",
    "        ),\n",
    "        layers.Conv2D(\n",
    "            filters=64,\n",
    "            kernel_size=(3, 3),\n",
    "            strides=(1, 1),\n",
    "            activation=\"relu\",\n",
    "            name=\"layers_conv2d_3\",\n",
    "        ),\n",
    "        layers.Conv2D(\n",
    "            filters=64,\n",
    "            kernel_size=(3, 3),\n",
    "            strides=(1, 1),\n",
    "            activation=\"relu\",\n",
    "            name=\"layers_conv2d_4\",\n",
    "        ),\n",
    "        layers.MaxPooling2D(),  # 128 -> 64\n",
    "        layers.Conv2D(\n",
    "            filters=64,\n",
    "            kernel_size=(3, 3),\n",
    "            strides=(1, 1),\n",
    "            activation=\"relu\",\n",
    "            name=\"layers_conv2d_5\",\n",
    "        ),\n",
    "        layers.MaxPooling2D(),  # 64 -> 32\n",
    "        layers.Flatten(name=\"layers_flatten\"),  # 32*32*64 = 65536\n",
    "        layers.Dropout(0.2, name=\"layers_dropout\"),\n",
    "        layers.Dense(N_CLASSES, activation=\"softmax\", name=\"layers_classifier\"),\n",
    "    ]\n",
    "    output = input\n",
    "    for layer in model_design:\n",
    "        output = layer(output)\n",
    "\n",
    "    return tf.keras.models.Model(inputs=input, outputs=output, name=\"FlowerFinder\")"
   ]
  },
  {
   "cell_type": "code",
   "execution_count": 6,
   "metadata": {},
   "outputs": [
    {
     "name": "stdout",
     "output_type": "stream",
     "text": [
      "Model: \"FlowerFinder\"\n",
      "_________________________________________________________________\n",
      " Layer (type)                Output Shape              Param #   \n",
      "=================================================================\n",
      " flower_image (InputLayer)   [(None, 256, 256, 3)]     0         \n",
      "                                                                 \n",
      " rescaling (Rescaling)       (None, 256, 256, 3)       0         \n",
      "                                                                 \n",
      " layers_conv2d_1 (Conv2D)    (None, 126, 126, 64)      4864      \n",
      "                                                                 \n",
      " max_pooling2d (MaxPooling2  (None, 63, 63, 64)        0         \n",
      " D)                                                              \n",
      "                                                                 \n",
      " layers_conv2d_2 (Conv2D)    (None, 61, 61, 64)        36928     \n",
      "                                                                 \n",
      " layers_conv2d_3 (Conv2D)    (None, 59, 59, 64)        36928     \n",
      "                                                                 \n",
      " layers_conv2d_4 (Conv2D)    (None, 57, 57, 64)        36928     \n",
      "                                                                 \n",
      " max_pooling2d_1 (MaxPoolin  (None, 28, 28, 64)        0         \n",
      " g2D)                                                            \n",
      "                                                                 \n",
      " layers_conv2d_5 (Conv2D)    (None, 26, 26, 64)        36928     \n",
      "                                                                 \n",
      " max_pooling2d_2 (MaxPoolin  (None, 13, 13, 64)        0         \n",
      " g2D)                                                            \n",
      "                                                                 \n",
      " layers_flatten (Flatten)    (None, 10816)             0         \n",
      "                                                                 \n",
      " layers_dropout (Dropout)    (None, 10816)             0         \n",
      "                                                                 \n",
      " layers_classifier (Dense)   (None, 14)                151438    \n",
      "                                                                 \n",
      "=================================================================\n",
      "Total params: 304014 (1.16 MB)\n",
      "Trainable params: 304014 (1.16 MB)\n",
      "Non-trainable params: 0 (0.00 Byte)\n",
      "_________________________________________________________________\n"
     ]
    }
   ],
   "source": [
    "model = create_model()\n",
    "model.summary()\n",
    "# tf.keras.utils.plot_model(model, \"my_first_model.png\")"
   ]
  },
  {
   "cell_type": "code",
   "execution_count": 7,
   "metadata": {},
   "outputs": [
    {
     "name": "stdout",
     "output_type": "stream",
     "text": [
      "Epoch 1/10\n",
      "    584/Unknown - 322s 502ms/step - loss: 1.6986 - accuracy: 0.3884 - categorical_accuracy: 0.3884 - precision: 0.5422 - recall: 0.1284"
     ]
    }
   ],
   "source": [
    "model.compile(\n",
    "    loss=tf.keras.losses.CategoricalCrossentropy(),\n",
    "    optimizer=tf.keras.optimizers.Adam(),\n",
    "    metrics=[\"accuracy\", tf.keras.metrics.CategoricalAccuracy(), tf.keras.metrics.Precision(), tf.keras.metrics.Recall()],\n",
    ")\n",
    "log_dir = \"logs/fit/\" + datetime.datetime.now().strftime(\"%Y%m%d-%H%M%S\")\n",
    "tensorboard_callback = tf.keras.callbacks.TensorBoard(\n",
    "    log_dir=log_dir, histogram_freq=1, update_freq=\"batch\"\n",
    ")\n",
    "\n",
    "model.fit(train_dataset, epochs=10, callbacks=[tensorboard_callback])"
   ]
  },
  {
   "cell_type": "code",
   "execution_count": null,
   "metadata": {},
   "outputs": [
    {
     "name": "stdout",
     "output_type": "stream",
     "text": [
      "98/98 [==============================] - 5s 25ms/step - loss: 0.1261 - accuracy: 0.6837\n"
     ]
    },
    {
     "data": {
      "text/plain": [
       "[0.12605267763137817, 0.6836734414100647]"
      ]
     },
     "execution_count": 14,
     "metadata": {},
     "output_type": "execute_result"
    }
   ],
   "source": [
    "model.evaluate(eval_dataset, callbacks=[tensorboard_callback])"
   ]
  },
  {
   "cell_type": "code",
   "execution_count": null,
   "metadata": {},
   "outputs": [],
   "source": [
    "client.close()"
   ]
  }
 ],
 "metadata": {
  "kernelspec": {
   "display_name": "flower",
   "language": "python",
   "name": "python3"
  },
  "language_info": {
   "codemirror_mode": {
    "name": "ipython",
    "version": 3
   },
   "file_extension": ".py",
   "mimetype": "text/x-python",
   "name": "python",
   "nbconvert_exporter": "python",
   "pygments_lexer": "ipython3",
   "version": "3.11.2"
  }
 },
 "nbformat": 4,
 "nbformat_minor": 2
}
